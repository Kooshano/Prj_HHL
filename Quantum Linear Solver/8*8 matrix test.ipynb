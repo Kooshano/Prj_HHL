{
 "cells": [
  {
   "cell_type": "code",
   "execution_count": 1,
   "metadata": {},
   "outputs": [],
   "source": [
    "import numpy as np\n",
    "from numpy_linear_solver import NumPyLinearSolver\n",
    "from hhl import HHL\n",
    "from qiskit.quantum_info import Statevector\n",
    "\n",
    "\"\"\"\n",
    "Example: Solving an 8×8 Hermitian system with HHL\n",
    "-------------------------------------------------\n",
    "This script generalises the original 2×2 demo to an 8×8 Hermitian matrix (size = 2^3).\n",
    "It follows exactly the same high‑level structure:\n",
    "  1. Build a Hermitian matrix A (with a tiny diagonal regularisation term so it is invertible).\n",
    "  2. Build and normalise a RHS vector |b⟩.\n",
    "  3. Run the quantum HHL algorithm; if that fails (e.g. due to badly‑conditioned A),\n",
    "     retry on a matrix scaled to ∥A∥∞ = 1.\n",
    "  4. Solve classically for reference.\n",
    "  5. Compare the two solutions.\n",
    "\n",
    "NOTE:  The HHL circuit pads several work / ancillary qubits, so the simulated state\n",
    "       contains many amplitudes that do *not* belong to the logical solution |x⟩.\n",
    "       A small helper pulls out the portion corresponding to the system register and\n",
    "       rescales it by the Euclidean norm reported by the solver.\n",
    "\"\"\"\n",
    "\n",
    "np.random.seed(42)  # reproducibility"
   ]
  },
  {
   "cell_type": "code",
   "execution_count": 2,
   "metadata": {},
   "outputs": [
    {
     "data": {
      "text/plain": [
       "array([[ 0.49672415, -0.30386934, -0.18257129,  0.48932357, -0.1238253 ,\n",
       "         0.25216481,  0.96141555, -0.0358914 ],\n",
       "       [-0.30386934,  0.54257004, -0.07458518, -0.17740358, -0.40787433,\n",
       "        -0.87095598, -1.74397899, -0.43574995],\n",
       "       [-0.18257129, -0.07458518, -0.90801408, -1.28164864,  1.14409684,\n",
       "        -0.17071229,  0.19580609, -0.54674238],\n",
       "       [ 0.48932357, -0.17740358, -1.28164864,  0.37570802, -0.91074117,\n",
       "        -0.29639872, -0.49339445,  1.41391166],\n",
       "       [-0.1238253 , -0.40787433,  1.14409684, -0.91074117,  0.2088736 ,\n",
       "        -1.71909606, -1.00255402, -0.1411565 ],\n",
       "       [ 0.25216481, -0.87095598, -0.17071229, -0.29639872, -1.71909606,\n",
       "        -0.71983421,  0.07551876,  0.43573162],\n",
       "       [ 0.96141555, -1.74397899,  0.19580609, -0.49339445, -1.00255402,\n",
       "         0.07551876,  1.03100952, -0.08752743],\n",
       "       [-0.0358914 , -0.43574995, -0.54674238,  1.41391166, -0.1411565 ,\n",
       "         0.43573162, -0.08752743, -1.19619662]])"
      ]
     },
     "execution_count": 2,
     "metadata": {},
     "output_type": "execute_result"
    }
   ],
   "source": [
    "# ----------------------  1. Build an 8×8 Hermitian matrix  ---------------------\n",
    "size = 8  # 2^3  =>  3‑qubit system register for HHL\n",
    "A_random = np.random.randn(size, size)\n",
    "hermitian_matrix = (A_random + A_random.T) / 2.0  # make it Hermitian (real‑symmetric)\n",
    "\n",
    "# Optional: improve the condition number slightly so HHL converges faster\n",
    "regularisation = 1e-5 * np.eye(size)\n",
    "A = hermitian_matrix + regularisation\n",
    "\n",
    "A\n"
   ]
  },
  {
   "cell_type": "code",
   "execution_count": 3,
   "metadata": {},
   "outputs": [],
   "source": [
    "# ----------------------  2. Prepare the right‑hand side |b⟩  -------------------\n",
    "# Here we use a simple deterministic pattern, but anything of length 8 is fine\n",
    "b = np.arange(1, size + 1, dtype=float)  # [1, 2, 3, …, 8]\n",
    "# Normalise so that |b⟩ represents a quantum state\n",
    "b = b / np.linalg.norm(b)"
   ]
  },
  {
   "cell_type": "code",
   "execution_count": 4,
   "metadata": {},
   "outputs": [
    {
     "name": "stdout",
     "output_type": "stream",
     "text": [
      "HHL solution succeeded on the original matrix!\n",
      "\n"
     ]
    }
   ],
   "source": [
    "# ----------------------  3. Quantum HHL solver  --------------------------------\n",
    "hhl = HHL()\n",
    "\n",
    "try:\n",
    "    hhl_result = hhl.solve(A, b)\n",
    "    print(\"HHL solution succeeded on the original matrix!\\n\")\n",
    "except Exception as err:\n",
    "    print(f\"HHL failed with: {err}\\nRescaling A and trying again …\")\n",
    "    # Scale so that all |A_ij| ≤ 1, which usually helps numerical stability\n",
    "    A_scaled = A / np.max(np.abs(A))\n",
    "    hhl_result = hhl.solve(A_scaled, b)\n"
   ]
  },
  {
   "cell_type": "code",
   "execution_count": 5,
   "metadata": {},
   "outputs": [],
   "source": [
    "# ----------------------  4. Classical reference solution  ----------------------\n",
    "classical_result = NumPyLinearSolver().solve(A, b)"
   ]
  },
  {
   "cell_type": "code",
   "execution_count": 6,
   "metadata": {},
   "outputs": [],
   "source": [
    "# ----------------------  5. Helper to extract the logical |x⟩ from HHL state ----\n",
    "\n",
    "def extract_solution_vector(result, dim):\n",
    "    \"\"\"Returns the real part of the system‑register amplitudes as a NumPy array.\n",
    "\n",
    "    The complete simulated state comprises (ancillas + system).  Qiskit places the\n",
    "    system register as the *least‑significant* qubits, so its amplitudes sit at the\n",
    "    *end* of the overall vector.  For a dim‑dimensional system register, that means\n",
    "    the final `dim` amplitudes.\n",
    "    \"\"\"\n",
    "    full_sv = Statevector(result.state).data\n",
    "    system_sv = full_sv[-dim:].real  # grab the last `dim` amplitudes\n",
    "    # Re‑scale by the Euclidean norm so that ∥x∥₂ matches the classical answer\n",
    "    return result.euclidean_norm * system_sv / np.linalg.norm(system_sv)\n"
   ]
  },
  {
   "cell_type": "code",
   "execution_count": 7,
   "metadata": {},
   "outputs": [],
   "source": [
    "quantum_solution = extract_solution_vector(hhl_result, size)"
   ]
  },
  {
   "cell_type": "code",
   "execution_count": 8,
   "metadata": {},
   "outputs": [
    {
     "name": "stdout",
     "output_type": "stream",
     "text": [
      "Classical solution |x⟩ : [-0.08722369 -0.47487732 -0.21721409  0.14284596  0.04987213 -0.24277258\n",
      " -0.08027285 -0.11295748]\n",
      "HHL solution      |x⟩ : [0.06143593 0.18862492 0.24939668 0.1364874  0.04076357 0.17368104\n",
      " 0.27181249 0.37891026]\n",
      "\n",
      "Classical ∥x∥₂ : 0.6175210549418465\n",
      "HHL      ∥x∥₂ : 0.6078347100243495\n"
     ]
    }
   ],
   "source": [
    "# ----------------------  6. Report  -------------------------------------------\n",
    "print(\"Classical solution |x⟩ :\", classical_result.state)\n",
    "print(\"HHL solution      |x⟩ :\", quantum_solution)\n",
    "print()\n",
    "print(\"Classical ∥x∥₂ :\", classical_result.euclidean_norm)\n",
    "print(\"HHL      ∥x∥₂ :\", hhl_result.euclidean_norm)\n"
   ]
  },
  {
   "cell_type": "code",
   "execution_count": null,
   "metadata": {},
   "outputs": [],
   "source": []
  }
 ],
 "metadata": {
  "kernelspec": {
   "display_name": "HHL",
   "language": "python",
   "name": "python3"
  },
  "language_info": {
   "codemirror_mode": {
    "name": "ipython",
    "version": 3
   },
   "file_extension": ".py",
   "mimetype": "text/x-python",
   "name": "python",
   "nbconvert_exporter": "python",
   "pygments_lexer": "ipython3",
   "version": "3.12.9"
  }
 },
 "nbformat": 4,
 "nbformat_minor": 2
}
