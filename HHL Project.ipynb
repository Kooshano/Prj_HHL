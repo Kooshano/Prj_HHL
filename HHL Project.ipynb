{
 "cells": [
  {
   "cell_type": "code",
   "execution_count": 90,
   "id": "22884df7",
   "metadata": {},
   "outputs": [],
   "source": [
    "import numpy as np\n",
    "from scipy.sparse import coo_matrix\n",
    "from qiskit_aer import AerSimulator\n",
    "from qiskit.quantum_info import Statevector\n",
    "\n",
    "from QLS.numpy_linear_solver import NumPyLinearSolver   # classical\n",
    "from QLS.hhl import HHL              # quantum HHL\n",
    "import time"
   ]
  },
  {
   "cell_type": "code",
   "execution_count": 91,
   "id": "43c63db4",
   "metadata": {},
   "outputs": [],
   "source": [
    "# ----- user parameters ------------------------------------------------------\n",
    "make_hermitian = True       # True → Hermitian SPD; False → general non-Hermitian\n",
    "target_kappa   = 1e1        # desired condition number κ(A)\n",
    "density        = 0.8        # fraction of nonzero entries (0<density≤1)\n",
    "noise_level    = 1e1       # relative off-diag noise for SPD case"
   ]
  },
  {
   "cell_type": "code",
   "execution_count": 92,
   "id": "58e8b061",
   "metadata": {},
   "outputs": [],
   "source": [
    "# ----- problem definition ---------------------------------------------------\n",
    "NUM_WORK_QUBITS = 3                \n",
    "DIM             = 2 ** NUM_WORK_QUBITS"
   ]
  },
  {
   "cell_type": "code",
   "execution_count": 93,
   "id": "76cf993d",
   "metadata": {},
   "outputs": [],
   "source": [
    "# ----- helpers ---------------------------------------------------------------\n",
    "def generate_sparse_spd(n, kappa, density, noise_level):\n",
    "    \"\"\"Hermitian SPD with log-spaced eigenvalues and random sparse off-diag noise.\"\"\"\n",
    "    # 1) log-spaced eigenvalues\n",
    "    eigs = np.logspace(0, np.log10(kappa), n)\n",
    "    # 2) diagonal entries\n",
    "    rows = np.arange(n); cols = rows; data = eigs\n",
    "    A = coo_matrix((data, (rows, cols)), shape=(n, n))\n",
    "    # 3) add symmetric off-diagonal noise\n",
    "    total = n*n\n",
    "    nnz   = int(density*total)\n",
    "    off   = max(nnz - n, 0)\n",
    "    off  -= off % 2\n",
    "    half  = off//2\n",
    "    if half>0:\n",
    "        i = np.random.randint(0,n,half*2)\n",
    "        j = np.random.randint(0,n,half*2)\n",
    "        mask = (i!=j)\n",
    "        i,j = i[mask][:half], j[mask][:half]\n",
    "        eps  = noise_level * eigs.min()\n",
    "        vals = np.random.uniform(-eps, eps, size=half)\n",
    "        A   = A + coo_matrix((vals,(i,j)),shape=(n,n))\\\n",
    "                + coo_matrix((vals,(j,i)),shape=(n,n))\n",
    "    return A.tocsr()"
   ]
  },
  {
   "cell_type": "code",
   "execution_count": 94,
   "id": "15b204da",
   "metadata": {},
   "outputs": [],
   "source": [
    "def generate_general(n, kappa, density):\n",
    "    \"\"\"General (non-Hermitian) matrix with approx κ via SVD, then sparsified.\"\"\"\n",
    "    # 1) U, V random orthonormal\n",
    "    U,_  = np.linalg.qr(np.random.randn(n,n))\n",
    "    V,_  = np.linalg.qr(np.random.randn(n,n))\n",
    "    # 2) singular values\n",
    "    s    = np.logspace(0, np.log10(kappa), n)\n",
    "    A    = U @ np.diag(s) @ V.T\n",
    "    # 3) sparsify by zeroing random entries\n",
    "    mask = (np.random.rand(n,n) < density)\n",
    "    A   *= mask\n",
    "    return A"
   ]
  },
  {
   "cell_type": "code",
   "execution_count": 95,
   "id": "b22a4747",
   "metadata": {},
   "outputs": [],
   "source": [
    "# ----- build A ----------------------------------------------------------------\n",
    "if make_hermitian:\n",
    "    A_sparse = generate_sparse_spd(DIM, target_kappa, density, noise_level)\n",
    "    A        = A_sparse.toarray()\n",
    "else:\n",
    "    A = generate_general(DIM, target_kappa, density)\n"
   ]
  },
  {
   "cell_type": "code",
   "execution_count": 96,
   "id": "f3b73f87",
   "metadata": {},
   "outputs": [
    {
     "name": "stdout",
     "output_type": "stream",
     "text": [
      "A (dim=8×8), Hermitian? True, κ(A) ≈ 3.440e+02, sparsity=42/64=65.62%\n",
      "\n",
      "A =\n",
      " [[  1.           0.           0.          -1.17677793  -7.16330063\n",
      "   -3.42789637   5.90555989   7.08407339]\n",
      " [  0.           1.38949549  -3.06239958   0.           3.25116496\n",
      "    4.7382878   -0.31346685   0.        ]\n",
      " [  0.          -3.06239958   1.93069773  -5.32152354 -13.26619203\n",
      "   -4.3676361    0.           0.        ]\n",
      " [ -1.17677793   0.          -5.32152354   2.6826958   -3.42677156\n",
      "    1.07295139   0.           0.        ]\n",
      " [ -7.16330063   3.25116496 -13.26619203  -3.42677156   3.72759372\n",
      "    0.           7.64345956   0.        ]\n",
      " [ -3.42789637   4.7382878   -4.3676361    1.07295139   0.\n",
      "    5.17947468  -8.6127288    0.        ]\n",
      " [  5.90555989  -0.31346685   0.           0.           7.64345956\n",
      "   -8.6127288    7.19685673   7.35964008]\n",
      " [  7.08407339   0.           0.           0.           0.\n",
      "    0.           7.35964008  10.        ]]\n"
     ]
    }
   ],
   "source": [
    "# ----- checks & print ---------------------------------------------------------\n",
    "is_herm = np.allclose(A, A.conj().T, atol=1e-12)\n",
    "cond_A  = np.linalg.cond(A)\n",
    "nnz     = np.count_nonzero(A)\n",
    "print(f\"A (dim={DIM}×{DIM}), Hermitian? {is_herm}, κ(A) ≈ {cond_A:.3e}, \"\n",
    "      f\"sparsity={nnz}/{DIM*DIM}={nnz/(DIM*DIM):.2%}\\n\")\n",
    "print(\"A =\\n\", A)   # uncomment to see the full matrix"
   ]
  },
  {
   "cell_type": "code",
   "execution_count": 97,
   "id": "36e3549b",
   "metadata": {},
   "outputs": [
    {
     "data": {
      "text/plain": [
       "array([1., 0., 0., 0., 0., 0., 0., 0.])"
      ]
     },
     "execution_count": 97,
     "metadata": {},
     "output_type": "execute_result"
    }
   ],
   "source": [
    "# ----- right-hand side -------------------------------------------------------\n",
    "b_vec = np.zeros(DIM, dtype=complex if np.iscomplexobj(A) else float)\n",
    "b_vec[0] = 1\n",
    "b_vec"
   ]
  },
  {
   "cell_type": "code",
   "execution_count": 98,
   "id": "140ad579",
   "metadata": {},
   "outputs": [],
   "source": [
    "# ----- classical solution ----------------------------------------------------\n",
    "classical_res = NumPyLinearSolver().solve(\n",
    "    A,\n",
    "    b_vec / np.linalg.norm(b_vec)\n",
    ")"
   ]
  },
  {
   "cell_type": "code",
   "execution_count": 99,
   "id": "30e6e0ef",
   "metadata": {},
   "outputs": [
    {
     "name": "stdout",
     "output_type": "stream",
     "text": [
      "Quantum solver took 44.779 seconds.\n"
     ]
    }
   ],
   "source": [
    "# ----- quantum (HHL) solution ------------------------------------------------\n",
    "# calculate the time for the quantum solver\n",
    "start_time = time.time()\n",
    "backend     = AerSimulator()\n",
    "hhl_solver  = HHL(epsilon=1e-3, quantum_instance=backend)\n",
    "quantum_res = hhl_solver.solve(A, b_vec)\n",
    "\n",
    "def extract_solution(result, n_work_qubits: int) -> np.ndarray:\n",
    "    sv           = Statevector(result.state).data\n",
    "    total_qubits = int(np.log2(len(sv)))\n",
    "    base_index   = 1 << (total_qubits - 1)\n",
    "    amps         = np.array([sv[base_index + i]\n",
    "                             for i in range(2 ** n_work_qubits)])\n",
    "    return result.euclidean_norm * amps / np.linalg.norm(amps)\n",
    "\n",
    "x_classical = classical_res.state\n",
    "x_quantum   = extract_solution(quantum_res, NUM_WORK_QUBITS)\n",
    "# calculate the time taken by the quantum solver\n",
    "end_time = time.time()\n",
    "# print time taken\n",
    "print(f\"Quantum solver took {end_time - start_time:.3f} seconds.\")"
   ]
  },
  {
   "cell_type": "code",
   "execution_count": 100,
   "id": "8f81b26f",
   "metadata": {},
   "outputs": [
    {
     "name": "stdout",
     "output_type": "stream",
     "text": [
      "Classical solution vector: [-2.47172127 -4.37888619 -0.05266435 -0.23594717  0.9174287   0.54790127\n",
      " -1.098481    2.55942797]\n",
      "Quantum   solution vector: [-2.47608548-7.43038659e-11j -4.38558862-1.31456391e-10j\n",
      " -0.05241424-1.54602672e-12j -0.23608149-7.03681069e-12j\n",
      "  0.91886258+2.75229900e-11j  0.54877782+1.64620788e-11j\n",
      " -1.10006146-3.29662666e-11j  2.56365009+7.69037458e-11j] \n",
      "\n",
      "Classical Euclidean norm: 5.851640640438257\n",
      "Quantum   Euclidean norm: 5.860953087954181 \n",
      "\n",
      "‖x_classical − x_quantum‖₂ = 0.009337984183610912\n"
     ]
    }
   ],
   "source": [
    "# ----- results ---------------------------------------------------------------\n",
    "print(\"Classical solution vector:\", x_classical)\n",
    "print(\"Quantum   solution vector:\", x_quantum, \"\\n\")\n",
    "print(\"Classical Euclidean norm:\", classical_res.euclidean_norm)\n",
    "print(\"Quantum   Euclidean norm:\", quantum_res.euclidean_norm, \"\\n\")\n",
    "print(\"‖x_classical − x_quantum‖₂ =\",\n",
    "      np.linalg.norm(x_classical - x_quantum))"
   ]
  }
 ],
 "metadata": {
  "kernelspec": {
   "display_name": "HHL",
   "language": "python",
   "name": "python3"
  },
  "language_info": {
   "codemirror_mode": {
    "name": "ipython",
    "version": 3
   },
   "file_extension": ".py",
   "mimetype": "text/x-python",
   "name": "python",
   "nbconvert_exporter": "python",
   "pygments_lexer": "ipython3",
   "version": "3.12.9"
  }
 },
 "nbformat": 4,
 "nbformat_minor": 5
}
