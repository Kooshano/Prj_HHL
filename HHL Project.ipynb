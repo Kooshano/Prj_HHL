{
 "cells": [
  {
   "cell_type": "code",
   "execution_count": 134,
   "id": "22884df7",
   "metadata": {},
   "outputs": [],
   "source": [
    "import numpy as np\n",
    "from scipy.sparse import coo_matrix\n",
    "from qiskit_aer import AerSimulator\n",
    "from qiskit.quantum_info import Statevector\n",
    "\n",
    "from QLS.numpy_linear_solver import NumPyLinearSolver   # classical\n",
    "from QLS.hhl import HHL              # quantum HHL\n",
    "import time"
   ]
  },
  {
   "cell_type": "code",
   "execution_count": 135,
   "id": "43c63db4",
   "metadata": {},
   "outputs": [],
   "source": [
    "# ----- user parameters ------------------------------------------------------\n",
    "make_hermitian = True       # True → Hermitian SPD; False → general non-Hermitian\n",
    "target_kappa   = 1e3        # desired condition number κ(A)\n",
    "density        = 0.9        # fraction of nonzero entries (0<density≤1)\n",
    "noise_level    = 1e1       # relative off-diag noise for SPD case"
   ]
  },
  {
   "cell_type": "code",
   "execution_count": 136,
   "id": "58e8b061",
   "metadata": {},
   "outputs": [],
   "source": [
    "# ----- problem definition ---------------------------------------------------\n",
    "NUM_WORK_QUBITS = 3                \n",
    "DIM             = 2 ** NUM_WORK_QUBITS"
   ]
  },
  {
   "cell_type": "code",
   "execution_count": 137,
   "id": "76cf993d",
   "metadata": {},
   "outputs": [],
   "source": [
    "# ----- helpers ---------------------------------------------------------------\n",
    "def generate_sparse_spd(n, kappa, density, noise_level):\n",
    "    \"\"\"Hermitian SPD with log-spaced eigenvalues and random sparse off-diag noise.\"\"\"\n",
    "    # 1) log-spaced eigenvalues\n",
    "    eigs = np.logspace(0, np.log10(kappa), n)\n",
    "    # 2) diagonal entries\n",
    "    rows = np.arange(n); cols = rows; data = eigs\n",
    "    A = coo_matrix((data, (rows, cols)), shape=(n, n))\n",
    "    # 3) add symmetric off-diagonal noise\n",
    "    total = n*n\n",
    "    nnz   = int(density*total)\n",
    "    off   = max(nnz - n, 0)\n",
    "    off  -= off % 2\n",
    "    half  = off//2\n",
    "    if half>0:\n",
    "        i = np.random.randint(0,n,half*2)\n",
    "        j = np.random.randint(0,n,half*2)\n",
    "        mask = (i!=j)\n",
    "        i,j = i[mask][:half], j[mask][:half]\n",
    "        eps  = noise_level * eigs.min()\n",
    "        vals = np.random.uniform(-eps, eps, size=half)\n",
    "        A   = A + coo_matrix((vals,(i,j)),shape=(n,n))\\\n",
    "                + coo_matrix((vals,(j,i)),shape=(n,n))\n",
    "    return A.tocsr()"
   ]
  },
  {
   "cell_type": "code",
   "execution_count": 138,
   "id": "15b204da",
   "metadata": {},
   "outputs": [],
   "source": [
    "def generate_general(n, kappa, density):\n",
    "    \"\"\"General (non-Hermitian) matrix with approx κ via SVD, then sparsified.\"\"\"\n",
    "    # 1) U, V random orthonormal\n",
    "    U,_  = np.linalg.qr(np.random.randn(n,n))\n",
    "    V,_  = np.linalg.qr(np.random.randn(n,n))\n",
    "    # 2) singular values\n",
    "    s    = np.logspace(0, np.log10(kappa), n)\n",
    "    A    = U @ np.diag(s) @ V.T\n",
    "    # 3) sparsify by zeroing random entries\n",
    "    mask = (np.random.rand(n,n) < density)\n",
    "    A   *= mask\n",
    "    return A"
   ]
  },
  {
   "cell_type": "code",
   "execution_count": 139,
   "id": "b22a4747",
   "metadata": {},
   "outputs": [],
   "source": [
    "# ----- build A ----------------------------------------------------------------\n",
    "if make_hermitian:\n",
    "    A_sparse = generate_sparse_spd(DIM, target_kappa, density, noise_level)\n",
    "    A        = A_sparse.toarray()\n",
    "else:\n",
    "    A = generate_general(DIM, target_kappa, density)\n"
   ]
  },
  {
   "cell_type": "code",
   "execution_count": 140,
   "id": "f3b73f87",
   "metadata": {},
   "outputs": [
    {
     "name": "stdout",
     "output_type": "stream",
     "text": [
      "A (dim=8×8), Hermitian? True, κ(A) ≈ 2.725e+02, sparsity=44/64=68.75%\n",
      "\n",
      "A =\n",
      " [[ 1.00000000e+00  4.24800989e+00  0.00000000e+00 -7.74777271e-01\n",
      "   1.70555570e+00  2.73639687e+00 -5.73435844e+00 -1.40243447e+01]\n",
      " [ 4.24800989e+00  2.68269580e+00  0.00000000e+00  0.00000000e+00\n",
      "  -7.26352256e+00  1.92791068e+00 -7.25368270e+00  1.27688457e+01]\n",
      " [ 0.00000000e+00  0.00000000e+00  7.19685673e+00  0.00000000e+00\n",
      "   5.29560571e+00  0.00000000e+00  8.26232856e+00  0.00000000e+00]\n",
      " [-7.74777271e-01  0.00000000e+00  0.00000000e+00  1.93069773e+01\n",
      "   9.77360325e+00 -2.69167383e+00  0.00000000e+00  3.42730881e+00]\n",
      " [ 1.70555570e+00 -7.26352256e+00  5.29560571e+00  9.77360325e+00\n",
      "   5.17947468e+01  0.00000000e+00  9.75739249e+00  0.00000000e+00]\n",
      " [ 2.73639687e+00  1.92791068e+00  0.00000000e+00 -2.69167383e+00\n",
      "   0.00000000e+00  1.38949549e+02  0.00000000e+00  1.80469990e+00]\n",
      " [-5.73435844e+00 -7.25368270e+00  8.26232856e+00  0.00000000e+00\n",
      "   9.75739249e+00  0.00000000e+00  3.72759372e+02  8.37907527e+00]\n",
      " [-1.40243447e+01  1.27688457e+01  0.00000000e+00  3.42730881e+00\n",
      "   0.00000000e+00  1.80469990e+00  8.37907527e+00  1.00000000e+03]]\n"
     ]
    }
   ],
   "source": [
    "# ----- checks & print ---------------------------------------------------------\n",
    "is_herm = np.allclose(A, A.conj().T, atol=1e-12)\n",
    "cond_A  = np.linalg.cond(A)\n",
    "nnz     = np.count_nonzero(A)\n",
    "print(f\"A (dim={DIM}×{DIM}), Hermitian? {is_herm}, κ(A) ≈ {cond_A:.3e}, \"\n",
    "      f\"sparsity={nnz}/{DIM*DIM}={nnz/(DIM*DIM):.2%}\\n\")\n",
    "print(\"A =\\n\", A)   # uncomment to see the full matrix"
   ]
  },
  {
   "cell_type": "code",
   "execution_count": 141,
   "id": "36e3549b",
   "metadata": {},
   "outputs": [
    {
     "data": {
      "text/plain": [
       "array([1., 0., 0., 0., 0., 0., 0., 0.])"
      ]
     },
     "execution_count": 141,
     "metadata": {},
     "output_type": "execute_result"
    }
   ],
   "source": [
    "# ----- right-hand side -------------------------------------------------------\n",
    "b_vec = np.zeros(DIM, dtype=complex if np.iscomplexobj(A) else float)\n",
    "b_vec[0] = 1\n",
    "b_vec"
   ]
  },
  {
   "cell_type": "code",
   "execution_count": 142,
   "id": "140ad579",
   "metadata": {},
   "outputs": [],
   "source": [
    "# ----- classical solution ----------------------------------------------------\n",
    "classical_res = NumPyLinearSolver().solve(\n",
    "    A,\n",
    "    b_vec / np.linalg.norm(b_vec)\n",
    ")"
   ]
  },
  {
   "cell_type": "code",
   "execution_count": 143,
   "id": "30e6e0ef",
   "metadata": {},
   "outputs": [
    {
     "name": "stdout",
     "output_type": "stream",
     "text": [
      "Quantum solver took 43.752 seconds.\n"
     ]
    }
   ],
   "source": [
    "# ----- quantum (HHL) solution ------------------------------------------------\n",
    "# calculate the time for the quantum solver\n",
    "start_time = time.time()\n",
    "backend     = AerSimulator()\n",
    "hhl_solver  = HHL(epsilon=1e-3, quantum_instance=backend)\n",
    "quantum_res = hhl_solver.solve(A, b_vec)\n",
    "\n",
    "def extract_solution(result, n_work_qubits: int) -> np.ndarray:\n",
    "    sv           = Statevector(result.state).data\n",
    "    total_qubits = int(np.log2(len(sv)))\n",
    "    base_index   = 1 << (total_qubits - 1)\n",
    "    amps         = np.array([sv[base_index + i]\n",
    "                             for i in range(2 ** n_work_qubits)])\n",
    "    return result.euclidean_norm * amps / np.linalg.norm(amps)\n",
    "\n",
    "x_classical = classical_res.state\n",
    "x_quantum   = extract_solution(quantum_res, NUM_WORK_QUBITS)\n",
    "# calculate the time taken by the quantum solver\n",
    "end_time = time.time()\n",
    "# print time taken\n",
    "print(f\"Quantum solver took {end_time - start_time:.3f} seconds.\")"
   ]
  },
  {
   "cell_type": "code",
   "execution_count": 144,
   "id": "8f81b26f",
   "metadata": {},
   "outputs": [
    {
     "name": "stdout",
     "output_type": "stream",
     "text": [
      "Classical solution vector: [-0.0548339   0.22242834 -0.03312921 -0.02212439  0.0399474  -0.0023887\n",
      "  0.00325338 -0.00355628]\n",
      "Quantum   solution vector: [-0.05779432-9.94745074e-13j  0.21849621+5.25676136e-13j\n",
      " -0.03446888-3.22653202e-14j -0.02201319-8.49122535e-14j\n",
      "  0.03960608+1.16159584e-13j -0.00226944+1.09321857e-14j\n",
      "  0.00316885-7.07418974e-15j -0.00354747-2.01905550e-14j] \n",
      "\n",
      "Classical Euclidean norm: 0.23599341071764052\n",
      "Quantum   Euclidean norm: 0.23313060464389712 \n",
      "\n",
      "‖x_classical − x_quantum‖₂ = 0.005115744720575678\n"
     ]
    }
   ],
   "source": [
    "# ----- results ---------------------------------------------------------------\n",
    "print(\"Classical solution vector:\", x_classical)\n",
    "print(\"Quantum   solution vector:\", x_quantum, \"\\n\")\n",
    "print(\"Classical Euclidean norm:\", classical_res.euclidean_norm)\n",
    "print(\"Quantum   Euclidean norm:\", quantum_res.euclidean_norm, \"\\n\")\n",
    "print(\"‖x_classical − x_quantum‖₂ =\",\n",
    "      np.linalg.norm(x_classical - x_quantum))"
   ]
  }
 ],
 "metadata": {
  "kernelspec": {
   "display_name": "HHL",
   "language": "python",
   "name": "python3"
  },
  "language_info": {
   "codemirror_mode": {
    "name": "ipython",
    "version": 3
   },
   "file_extension": ".py",
   "mimetype": "text/x-python",
   "name": "python",
   "nbconvert_exporter": "python",
   "pygments_lexer": "ipython3",
   "version": "3.12.9"
  }
 },
 "nbformat": 4,
 "nbformat_minor": 5
}
