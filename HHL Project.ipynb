{
 "cells": [
  {
   "cell_type": "code",
   "execution_count": 1,
   "id": "22884df7",
   "metadata": {},
   "outputs": [],
   "source": [
    "import numpy as np\n",
    "from scipy.sparse import coo_matrix\n",
    "from qiskit_aer import AerSimulator\n",
    "from qiskit.quantum_info import Statevector\n",
    "\n",
    "from QLS.numpy_linear_solver import NumPyLinearSolver   # classical\n",
    "from QLS.hhl import HHL              # quantum HHL\n",
    "import time"
   ]
  },
  {
   "cell_type": "code",
   "execution_count": 2,
   "id": "43c63db4",
   "metadata": {},
   "outputs": [],
   "source": [
    "# ----- user parameters ------------------------------------------------------\n",
    "make_hermitian = True       # True → Hermitian SPD; False → general non-Hermitian\n",
    "target_kappa   = 1e2        # desired condition number κ(A)\n",
    "density        = 0.9        # fraction of nonzero entries (0<density≤1)\n",
    "noise_level    = 1e1       # relative off-diag noise for SPD case"
   ]
  },
  {
   "cell_type": "code",
   "execution_count": 3,
   "id": "58e8b061",
   "metadata": {},
   "outputs": [],
   "source": [
    "# ----- problem definition ---------------------------------------------------\n",
    "NUM_WORK_QUBITS = 4                \n",
    "DIM             = 2 ** NUM_WORK_QUBITS"
   ]
  },
  {
   "cell_type": "code",
   "execution_count": 4,
   "id": "76cf993d",
   "metadata": {},
   "outputs": [],
   "source": [
    "# ----- helpers ---------------------------------------------------------------\n",
    "def generate_sparse_spd(n, kappa, density, noise_level):\n",
    "    \"\"\"Hermitian SPD with log-spaced eigenvalues and random sparse off-diag noise.\"\"\"\n",
    "    # 1) log-spaced eigenvalues\n",
    "    eigs = np.logspace(0, np.log10(kappa), n)\n",
    "    # 2) diagonal entries\n",
    "    rows = np.arange(n); cols = rows; data = eigs\n",
    "    A = coo_matrix((data, (rows, cols)), shape=(n, n))\n",
    "    # 3) add symmetric off-diagonal noise\n",
    "    total = n*n\n",
    "    nnz   = int(density*total)\n",
    "    off   = max(nnz - n, 0)\n",
    "    off  -= off % 2\n",
    "    half  = off//2\n",
    "    if half>0:\n",
    "        i = np.random.randint(0,n,half*2)\n",
    "        j = np.random.randint(0,n,half*2)\n",
    "        mask = (i!=j)\n",
    "        i,j = i[mask][:half], j[mask][:half]\n",
    "        eps  = noise_level * eigs.min()\n",
    "        vals = np.random.uniform(-eps, eps, size=half)\n",
    "        A   = A + coo_matrix((vals,(i,j)),shape=(n,n))\\\n",
    "                + coo_matrix((vals,(j,i)),shape=(n,n))\n",
    "    return A.tocsr()"
   ]
  },
  {
   "cell_type": "code",
   "execution_count": 5,
   "id": "15b204da",
   "metadata": {},
   "outputs": [],
   "source": [
    "def generate_general(n, kappa, density):\n",
    "    \"\"\"General (non-Hermitian) matrix with approx κ via SVD, then sparsified.\"\"\"\n",
    "    # 1) U, V random orthonormal\n",
    "    U,_  = np.linalg.qr(np.random.randn(n,n))\n",
    "    V,_  = np.linalg.qr(np.random.randn(n,n))\n",
    "    # 2) singular values\n",
    "    s    = np.logspace(0, np.log10(kappa), n)\n",
    "    A    = U @ np.diag(s) @ V.T\n",
    "    # 3) sparsify by zeroing random entries\n",
    "    mask = (np.random.rand(n,n) < density)\n",
    "    A   *= mask\n",
    "    return A"
   ]
  },
  {
   "cell_type": "code",
   "execution_count": 6,
   "id": "b22a4747",
   "metadata": {},
   "outputs": [],
   "source": [
    "# ----- build A ----------------------------------------------------------------\n",
    "if make_hermitian:\n",
    "    A_sparse = generate_sparse_spd(DIM, target_kappa, density, noise_level)\n",
    "    A        = A_sparse.toarray()\n",
    "else:\n",
    "    A = generate_general(DIM, target_kappa, density)\n"
   ]
  },
  {
   "cell_type": "code",
   "execution_count": null,
   "id": "f3b73f87",
   "metadata": {},
   "outputs": [
    {
     "name": "stdout",
     "output_type": "stream",
     "text": [
      "A (dim=16×16), Hermitian? True, κ(A) ≈ 1.266e+02, sparsity=138/256=53.91%\n",
      "\n",
      "A =\n",
      " [[  1.         -11.72022456   0.          16.96984509 -11.29285126\n",
      "    0.           0.           0.           8.84608385   0.\n",
      "    0.           5.23111979   4.16024239   0.           0.\n",
      "    0.        ]\n",
      " [-11.72022456   1.35935639 -10.14480525   0.36111963   0.\n",
      "    0.41895499   9.88610862   0.           7.7852984    0.\n",
      "    0.          -0.47735863   4.92367501  -8.3793611   -0.1537671\n",
      "    0.        ]\n",
      " [  0.         -10.14480525   1.8478498    7.20437412   0.\n",
      "    0.           0.           0.          11.01708552   0.\n",
      "   -9.69809648  -4.75776682 -17.3762155   -2.64921694   0.4597871\n",
      "    9.47856873]\n",
      " [ 16.96984509   0.36111963   7.20437412   2.51188643  -9.43899037\n",
      "   -0.48725316  -6.75937293   7.11980885   0.           6.58664558\n",
      "   -6.93969511   0.           0.          13.37403773   9.08243056\n",
      "   -0.95073336]\n",
      " [-11.29285126   0.           0.          -9.43899037   3.41454887\n",
      "    0.           0.           5.28742354  -4.68455513   0.\n",
      "    3.95143684   0.          -9.07648938   0.           0.\n",
      "    3.3931587 ]\n",
      " [  0.           0.41895499   0.          -0.48725316   0.\n",
      "    4.64158883   8.05937941   0.           0.           0.\n",
      "   12.14811532  28.16108958   0.           0.           0.\n",
      "    0.        ]\n",
      " [  0.           9.88610862   0.          -6.75937293   0.\n",
      "    8.05937941   6.30957344   3.25503163   0.           4.15595406\n",
      "    0.          -5.7738837    0.           1.38405101   0.\n",
      "    5.30746759]\n",
      " [  0.           0.           0.           7.11980885   5.28742354\n",
      "    0.           3.25503163   8.57695899   4.90003905   2.11304216\n",
      "   -1.95510979  -2.18713065   0.           0.           0.\n",
      "    0.        ]\n",
      " [  8.84608385   7.7852984   11.01708552   0.          -4.68455513\n",
      "    0.           0.           4.90003905  11.65914401   0.\n",
      "    4.37185075   0.           4.85563621   0.           0.\n",
      "    1.45218894]\n",
      " [  0.           0.           0.           6.58664558   0.\n",
      "    0.           4.15595406   2.11304216   0.          15.84893192\n",
      "   -6.5346488   -8.2520802   -0.77465804   0.           0.\n",
      "    0.63057031]\n",
      " [  0.           0.          -9.69809648  -6.93969511   3.95143684\n",
      "   12.14811532   0.          -1.95510979   4.37185075  -6.5346488\n",
      "   21.5443469   -9.8236324    0.           4.52486444   0.\n",
      "    6.51868496]\n",
      " [  5.23111979  -0.47735863  -4.75776682   0.           0.\n",
      "   28.16108958  -5.7738837   -2.18713065   0.          -8.2520802\n",
      "   -9.8236324   29.28644565   0.           0.          -3.86816932\n",
      "    3.39843742]\n",
      " [  4.16024239   4.92367501 -17.3762155    0.          -9.07648938\n",
      "    0.           0.           0.           4.85563621  -0.77465804\n",
      "    0.           0.          39.81071706   0.           0.\n",
      "    0.        ]\n",
      " [  0.          -8.3793611   -2.64921694  13.37403773   0.\n",
      "    0.           1.38405101   0.           0.           0.\n",
      "    4.52486444   0.           0.          54.11695265   0.\n",
      "    0.        ]\n",
      " [  0.          -0.1537671    0.4597871    9.08243056   0.\n",
      "    0.           0.           0.           0.           0.\n",
      "    0.          -3.86816932   0.           0.          73.56422545\n",
      "    0.        ]\n",
      " [  0.           0.           9.47856873  -0.95073336   3.3931587\n",
      "    0.           5.30746759   0.           1.45218894   0.63057031\n",
      "    6.51868496   3.39843742   0.           0.           0.\n",
      "  100.        ]]\n"
     ]
    }
   ],
   "source": [
    "# ----- checks & print ---------------------------------------------------------\n",
    "is_herm = np.allclose(A, A.conj().T, atol=1e-12)\n",
    "cond_A  = np.linalg.cond(A)\n",
    "nnz     = np.count_nonzero(A)\n",
    "\n",
    "print(\"A =\\n\", A)   # uncomment to see the full matrix\n",
    "\n",
    "print(f\"A (dim={DIM}×{DIM}), Hermitian? {is_herm}, κ(A) ≈ {cond_A:.3e}, \"\n",
    "      f\"sparsity={nnz}/{DIM*DIM}={nnz/(DIM*DIM):.2%}\\n\")"
   ]
  },
  {
   "cell_type": "code",
   "execution_count": 8,
   "id": "36e3549b",
   "metadata": {},
   "outputs": [
    {
     "data": {
      "text/plain": [
       "array([1., 0., 0., 0., 0., 0., 0., 0., 0., 0., 0., 0., 0., 0., 0., 0.])"
      ]
     },
     "execution_count": 8,
     "metadata": {},
     "output_type": "execute_result"
    }
   ],
   "source": [
    "# ----- right-hand side -------------------------------------------------------\n",
    "b_vec = np.zeros(DIM, dtype=complex if np.iscomplexobj(A) else float)\n",
    "b_vec[0] = 1\n",
    "b_vec"
   ]
  },
  {
   "cell_type": "code",
   "execution_count": 9,
   "id": "140ad579",
   "metadata": {},
   "outputs": [],
   "source": [
    "# ----- classical solution ----------------------------------------------------\n",
    "classical_res = NumPyLinearSolver().solve(\n",
    "    A,\n",
    "    b_vec / np.linalg.norm(b_vec)\n",
    ")"
   ]
  },
  {
   "cell_type": "code",
   "execution_count": 10,
   "id": "30e6e0ef",
   "metadata": {},
   "outputs": [
    {
     "name": "stdout",
     "output_type": "stream",
     "text": [
      "['GPU']\n"
     ]
    },
    {
     "name": "stdout",
     "output_type": "stream",
     "text": [
      "Quantum solver took 102.994 seconds.\n"
     ]
    }
   ],
   "source": [
    "# ----- quantum (HHL) solution ------------------------------------------------\n",
    "# calculate the time for the quantum solver\n",
    "start_time = time.time()\n",
    "\n",
    "\n",
    "backend = AerSimulator(method='statevector',\n",
    "                           device='GPU',\n",
    "                           precision='double') \n",
    "print(backend.available_devices())\n",
    "hhl_solver  = HHL(epsilon=1e-3, quantum_instance=backend)\n",
    "quantum_res = hhl_solver.solve(A, b_vec)\n",
    "\n",
    "def extract_solution(result, n_work_qubits: int) -> np.ndarray:\n",
    "    sv           = Statevector(result.state).data\n",
    "    total_qubits = int(np.log2(len(sv)))\n",
    "    base_index   = 1 << (total_qubits - 1)\n",
    "    amps         = np.array([sv[base_index + i]\n",
    "                             for i in range(2 ** n_work_qubits)])\n",
    "    return result.euclidean_norm * amps / np.linalg.norm(amps)\n",
    "\n",
    "x_classical = classical_res.state\n",
    "x_quantum   = extract_solution(quantum_res, NUM_WORK_QUBITS)\n",
    "# calculate the time taken by the quantum solver\n",
    "end_time = time.time()\n",
    "# print time taken\n",
    "print(f\"Quantum solver took {end_time - start_time:.3f} seconds.\")"
   ]
  },
  {
   "cell_type": "code",
   "execution_count": 11,
   "id": "8f81b26f",
   "metadata": {},
   "outputs": [
    {
     "name": "stdout",
     "output_type": "stream",
     "text": [
      "Classical solution vector: [-0.01175231 -0.06465738  0.05044731  0.00566854 -0.04168877  0.03870139\n",
      "  0.0492514   0.02413412 -0.0344871  -0.02614336  0.00541299 -0.02174911\n",
      "  0.02543649 -0.01065493 -0.00229392 -0.00487528]\n",
      "Quantum   solution vector: [-0.01212654+1.52697098e-15j -0.06479186+2.53917008e-13j\n",
      "  0.05113015-1.71171246e-13j  0.00607188+2.67358031e-14j\n",
      " -0.04198239+1.14036836e-13j  0.039251  -1.23031844e-13j\n",
      "  0.04934294-2.02859643e-13j  0.02421617-8.28458694e-14j\n",
      " -0.03491803+1.22375016e-13j -0.02627768+8.18526078e-14j\n",
      "  0.00562928-5.24464563e-15j -0.02201645+6.94320487e-14j\n",
      "  0.0257156 -9.56460140e-14j -0.01077203+3.06955913e-14j\n",
      " -0.00235841+1.76583934e-15j -0.00492176+1.88066268e-14j] \n",
      "\n",
      "Classical Euclidean norm: 0.12768867420906418\n",
      "Quantum   Euclidean norm: 0.1286616593186827 \n",
      "\n",
      "‖x_classical − x_quantum‖₂ = 0.0012690205714452148\n"
     ]
    }
   ],
   "source": [
    "# ----- results ---------------------------------------------------------------\n",
    "print(\"Classical solution vector:\", x_classical)\n",
    "print(\"Quantum   solution vector:\", x_quantum, \"\\n\")\n",
    "print(\"Classical Euclidean norm:\", classical_res.euclidean_norm)\n",
    "print(\"Quantum   Euclidean norm:\", quantum_res.euclidean_norm, \"\\n\")\n",
    "print(\"‖x_classical − x_quantum‖₂ =\",\n",
    "      np.linalg.norm(x_classical - x_quantum))"
   ]
  },
  {
   "cell_type": "code",
   "execution_count": 12,
   "id": "116f1799",
   "metadata": {},
   "outputs": [
    {
     "name": "stdout",
     "output_type": "stream",
     "text": [
      "Logged run to hhl_runs_log.json (total runs: 7)\n"
     ]
    }
   ],
   "source": [
    "# %% [markdown]\n",
    "# ## Log run results to JSON (robust to malformed file)\n",
    "\n",
    "# %%\n",
    "import os\n",
    "import json\n",
    "from datetime import datetime\n",
    "\n",
    "def serialize_complex_vector(vec):\n",
    "    return [[float(c.real), float(c.imag)] for c in vec]\n",
    "\n",
    "record = {\n",
    "    \"timestamp\":             datetime.now().isoformat(),\n",
    "    \"dim\":                   DIM,\n",
    "    \"make_hermitian\":        make_hermitian,\n",
    "    \"is_hermitian\":          bool(is_herm),\n",
    "    \"condition_number\":      cond_A,\n",
    "    \"nnz\":                   nnz,\n",
    "    \"density\":               nnz/(DIM*DIM),\n",
    "    \"noise_level\":           noise_level if make_hermitian else None,\n",
    "    \"time_quantum_sec\":      end_time - start_time,\n",
    "    \"euclid_norm_classical\": classical_res.euclidean_norm,\n",
    "    \"euclid_norm_quantum\":   quantum_res.euclidean_norm,\n",
    "    \"diff_norm\":             float(np.linalg.norm(x_classical - x_quantum)),\n",
    "    \"x_classical\":           serialize_complex_vector(x_classical),\n",
    "    \"x_quantum\":             serialize_complex_vector(x_quantum),\n",
    "    \"matrix\":                A.tolist(),\n",
    "}\n",
    "\n",
    "logfile = \"hhl_runs_log.json\"\n",
    "\n",
    "# Try to load existing data; if it fails or is malformed, overwrite\n",
    "try:\n",
    "    with open(logfile, \"r\") as f:\n",
    "        data = json.load(f)\n",
    "    if not isinstance(data, list):\n",
    "        raise ValueError(\"Top-level JSON is not a list\")\n",
    "except (FileNotFoundError, json.JSONDecodeError, ValueError):\n",
    "    data = []\n",
    "\n",
    "data.append(record)\n",
    "\n",
    "with open(logfile, \"w\") as f:\n",
    "    json.dump(data, f, indent=2)\n",
    "\n",
    "print(f\"Logged run to {logfile} (total runs: {len(data)})\")"
   ]
  },
  {
   "cell_type": "code",
   "execution_count": null,
   "id": "bd5bdb3e",
   "metadata": {},
   "outputs": [],
   "source": []
  }
 ],
 "metadata": {
  "kernelspec": {
   "display_name": "Python 3",
   "language": "python",
   "name": "python3"
  },
  "language_info": {
   "codemirror_mode": {
    "name": "ipython",
    "version": 3
   },
   "file_extension": ".py",
   "mimetype": "text/x-python",
   "name": "python",
   "nbconvert_exporter": "python",
   "pygments_lexer": "ipython3",
   "version": "3.10.12"
  }
 },
 "nbformat": 4,
 "nbformat_minor": 5
}
